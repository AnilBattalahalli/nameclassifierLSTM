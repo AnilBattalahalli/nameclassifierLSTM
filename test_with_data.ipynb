{
 "cells": [
  {
   "cell_type": "code",
   "execution_count": 1,
   "id": "e3941d24-ead9-44a2-9fc9-bd73e4ccfe51",
   "metadata": {},
   "outputs": [],
   "source": [
    "import pickle\n",
    "import pandas as pd\n",
    "import numpy as np\n",
    "import tensorflow as tf\n",
    "from tensorflow.keras.preprocessing.sequence import pad_sequences"
   ]
  },
  {
   "cell_type": "code",
   "execution_count": 2,
   "id": "43c9923d-b17b-4ac7-84a6-dd8a4af33ded",
   "metadata": {},
   "outputs": [],
   "source": [
    "model = tf.keras.models.load_model(\"saved_text_classifer.h5\")\n",
    "\n",
    "with open(\"./encoder.pkl\", \"rb\") as infile:\n",
    "    encoder = pickle.load(infile)"
   ]
  },
  {
   "cell_type": "code",
   "execution_count": 3,
   "id": "e6184b5d-a4ae-4649-aefa-c12a1a9aefb0",
   "metadata": {},
   "outputs": [],
   "source": [
    "df_test = pd.read_csv(\"./names.csv\")\n",
    "enc_space = len(encoder.items())"
   ]
  },
  {
   "cell_type": "code",
   "execution_count": 4,
   "id": "3cee1fb8-08e2-4aaa-8a3d-241ef3d81544",
   "metadata": {},
   "outputs": [],
   "source": [
    "ip = df_test[['Person_Lname', 'Person_Fname']]\n",
    "op = df_test[['full_name', 'first_name', 'gen_label', 'missing']]\n",
    "\n",
    "X_table = ip.fillna(\"0\")\n",
    "y = op.fillna(0).values"
   ]
  },
  {
   "cell_type": "code",
   "execution_count": 5,
   "id": "5c9b02f0-8154-4e40-a042-406f8ae9a352",
   "metadata": {},
   "outputs": [],
   "source": [
    "input_string = [i[0].upper()+\"\\t\"+i[1].upper() for i in X_table.values.tolist()]"
   ]
  },
  {
   "cell_type": "code",
   "execution_count": 6,
   "id": "bb5d751e-f785-4081-abce-fde9541ffd1e",
   "metadata": {},
   "outputs": [],
   "source": [
    "def encode_char(c):\n",
    "    vec = [0]*enc_space\n",
    "    vec[encoder[c]] = 1\n",
    "    return vec\n",
    "\n",
    "def encode_name(n):\n",
    "    return np.array([encode_char(i) for i in n])"
   ]
  },
  {
   "cell_type": "code",
   "execution_count": 7,
   "id": "148d32a9-93ee-464d-9ded-7f12171cb88d",
   "metadata": {},
   "outputs": [],
   "source": [
    "new_model = tf.keras.Sequential([\n",
    "    tf.keras.layers.Bidirectional(tf.keras.layers.LSTM(enc_space, batch_size=1)),\n",
    "    tf.keras.layers.Dense(enc_space, activation='relu'),\n",
    "    tf.keras.layers.Dense(4, activation='softmax')]\n",
    ")"
   ]
  },
  {
   "cell_type": "code",
   "execution_count": 8,
   "id": "d957bc4c-f597-4a46-b2ef-bd78e5b9f2d5",
   "metadata": {},
   "outputs": [],
   "source": [
    "input_vector_unpadded = [encode_name(i) for i in input_string]\n",
    "X = pad_sequences(input_vector_unpadded, padding='post', truncating='post', maxlen=40)"
   ]
  },
  {
   "cell_type": "code",
   "execution_count": 9,
   "id": "01173efb-ff7d-4248-af18-86f84e69aa83",
   "metadata": {},
   "outputs": [],
   "source": [
    "X = X.astype('float32')"
   ]
  },
  {
   "cell_type": "code",
   "execution_count": 10,
   "id": "b3eb105a-7694-4107-b114-468344b84684",
   "metadata": {},
   "outputs": [],
   "source": [
    "new_model.build(input_shape=(1, X.shape[1], X.shape[2]))\n",
    "old_weights = model.get_weights()\n",
    "new_model.set_weights(old_weights)\n",
    "new_model.compile(loss=tf.keras.losses.CategoricalCrossentropy(),\n",
    "              optimizer=tf.keras.optimizers.SGD(1e-2),\n",
    "              metrics=['mean_squared_error', 'accuracy'])"
   ]
  },
  {
   "cell_type": "code",
   "execution_count": 24,
   "id": "ce8d2853-94c8-4eb8-b6af-a64121b7c024",
   "metadata": {},
   "outputs": [
    {
     "data": {
      "text/plain": [
       "array([0, 0, 0, ..., 0, 0, 0])"
      ]
     },
     "execution_count": 24,
     "metadata": {},
     "output_type": "execute_result"
    }
   ],
   "source": [
    "model.predict_classes(X, batch_size=X.shape[0])"
   ]
  }
 ],
 "metadata": {
  "kernelspec": {
   "display_name": "Python 3",
   "language": "python",
   "name": "python3"
  },
  "language_info": {
   "codemirror_mode": {
    "name": "ipython",
    "version": 3
   },
   "file_extension": ".py",
   "mimetype": "text/x-python",
   "name": "python",
   "nbconvert_exporter": "python",
   "pygments_lexer": "ipython3",
   "version": "3.8.11"
  }
 },
 "nbformat": 4,
 "nbformat_minor": 5
}
