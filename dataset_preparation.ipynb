{
    "cells": [
        {
            "cell_type": "code",
            "execution_count": 8,
            "source": [
                "import pandas as pd\n",
                "import numpy as np\n",
                "import string\n",
                "import random"
            ],
            "outputs": [],
            "metadata": {}
        },
        {
            "cell_type": "code",
            "execution_count": 9,
            "source": [
                "df_f = pd.read_csv(\"NationalNames.csv\")\n",
                "df_l = pd.read_csv(\"surnames.csv\")\n",
                "letters = set(string.ascii_letters)\n",
                "lastnames = [str(i).upper() for i in pd.read_csv(\"surnames.csv\").name.values.tolist() if letters.issuperset(set(str(i)))]\n",
                "firstnames = [str(i).upper() for i in pd.read_csv(\"NationalNames.csv\").Name.values.tolist() if letters.issuperset(set(str(i)))]"
            ],
            "outputs": [],
            "metadata": {}
        },
        {
            "cell_type": "code",
            "execution_count": 10,
            "source": [
                "Names = []\n",
                "y = []"
            ],
            "outputs": [],
            "metadata": {}
        },
        {
            "cell_type": "markdown",
            "source": [
                "## Making Full Names"
            ],
            "metadata": {}
        },
        {
            "cell_type": "code",
            "execution_count": 11,
            "source": [
                "numbers_list = [str(-1*i) for i in list(range(10))]\n",
                "numbers_list.append(\"\")\n",
                "spaces = [\"\", \" \"]\n",
                "gender_names = [\"son\", \"daughter\", \"man\", \"woman\", \"person\",\n",
                "                \"father\", \"mother\", \"parent\", \"boy\", \"girl\", \"child\", \n",
                "                \"uncle\", \"aunt\", \"husband\", \"wife\", \"spouse\", \"boyfriend\",\n",
                "                \"girlfriend\", \"actor\", \"actress\",  \"waiter\", \"waitress\", \"server\", \"resident\"]"
            ],
            "outputs": [],
            "metadata": {}
        },
        {
            "cell_type": "code",
            "execution_count": 12,
            "source": [
                "gender_names.extend(gender_names*10)"
            ],
            "outputs": [],
            "metadata": {}
        },
        {
            "cell_type": "code",
            "execution_count": 13,
            "source": [
                "for _ in range(100):\n",
                "    gender_names.append(random.choice(list(string.ascii_uppercase))+random.choice(list(string.ascii_uppercase)))\n",
                "    gender_names.append(random.choice(list(string.ascii_uppercase)))\n",
                "\n",
                "    gender_names.append(random.choice(list(string.ascii_uppercase))+random.choice(list(string.ascii_uppercase))+\" \")\n",
                "    gender_names.append(random.choice(list(string.ascii_uppercase))+\" \")"
            ],
            "outputs": [],
            "metadata": {}
        },
        {
            "cell_type": "code",
            "execution_count": 14,
            "source": [
                "Names.extend([[l,f] for f,l in zip(firstnames[:20000], lastnames[:20000])])\n",
                "y.extend([[1,0,0,0] for _ in range(20000)])\n",
                "Names.extend([[random.choice(numbers_list), f] for f,l in zip(firstnames[20000:30000], lastnames[20000:30000])])\n",
                "y.extend([[0,1,0,0] for _ in range(10000)])\n",
                "Names.extend([[str(0), f] for f,l in zip(firstnames[30000:40000], lastnames[30000:40000])])\n",
                "y.extend([[0,1,0,0] for _ in range(10000)])\n"
            ],
            "outputs": [],
            "metadata": {}
        },
        {
            "cell_type": "code",
            "execution_count": 15,
            "source": [
                "for _ in range(20000):\n",
                "    Names.append([\"0\", random.choice(gender_names).upper()+random.choice(spaces)+str(random.choice(list(range(1,10))))])\n",
                "    y.append([0,0,1,0])"
            ],
            "outputs": [],
            "metadata": {}
        },
        {
            "cell_type": "code",
            "execution_count": 16,
            "source": [
                "\n",
                "Names.extend([[\"0\", random.choice(numbers_list)] for _ in range(10000)])\n",
                "y.extend([[0,0,0,1] for _ in range(10000)])\n",
                "Names.extend([[random.choice(numbers_list), random.choice(numbers_list)] for _ in range(10000)])\n",
                "y.extend([[0,0,0,1] for _ in range(10000)])"
            ],
            "outputs": [],
            "metadata": {}
        },
        {
            "cell_type": "code",
            "execution_count": 17,
            "source": [
                "df_out = pd.DataFrame([a+b for a,b in zip(Names, y)], columns=['Lastname', 'Firstname', 'Fullname', 'Firstname', 'Gendername', 'Incomplete'])\n"
            ],
            "outputs": [],
            "metadata": {}
        },
        {
            "cell_type": "code",
            "execution_count": 19,
            "source": [
                "\n",
                "df_out.to_csv(\"dataset.csv\", index=False)"
            ],
            "outputs": [],
            "metadata": {}
        }
    ],
    "metadata": {
        "orig_nbformat": 4,
        "language_info": {
            "name": "python",
            "version": "3.8.8",
            "mimetype": "text/x-python",
            "codemirror_mode": {
                "name": "ipython",
                "version": 3
            },
            "pygments_lexer": "ipython3",
            "nbconvert_exporter": "python",
            "file_extension": ".py"
        },
        "kernelspec": {
            "name": "python3",
            "display_name": "Python 3.8.8 64-bit ('base': conda)"
        },
        "interpreter": {
            "hash": "604ba8623f404cd6d72b6d032006c5b048c9a69a24c79e442f5e47a58d5aff21"
        }
    },
    "nbformat": 4,
    "nbformat_minor": 2
}