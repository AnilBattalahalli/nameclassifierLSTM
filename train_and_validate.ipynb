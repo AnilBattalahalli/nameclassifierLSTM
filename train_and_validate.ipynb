{
    "cells": [
        {
            "cell_type": "code",
            "execution_count": 1,
            "source": [
                "import string\n",
                "import pandas as pd\n",
                "import numpy as np\n",
                "from pprint import pprint\n",
                "\n",
                "import tensorflow as tf\n",
                "from sklearn.model_selection import train_test_split\n",
                "from tensorflow.keras.preprocessing.sequence import pad_sequences"
            ],
            "outputs": [],
            "metadata": {}
        },
        {
            "cell_type": "code",
            "execution_count": 29,
            "source": [
                "chars_allowed = [i for i in string.printable if i not in string.ascii_lowercase]\n",
                "encoder = {e:i for i,e in enumerate(chars_allowed)}\n",
                "decoder = {i:e for i,e in enumerate(chars_allowed)}\n",
                "enc_space = len(chars_allowed)"
            ],
            "outputs": [],
            "metadata": {}
        },
        {
            "cell_type": "code",
            "execution_count": 30,
            "source": [
                "def encode_char(c):\n",
                "    vec = [0]*enc_space\n",
                "    vec[encoder[c]] = 1\n",
                "    return vec\n",
                "\n",
                "def encode_name(n):\n",
                "    return np.array([encode_char(i) for i in n])"
            ],
            "outputs": [],
            "metadata": {}
        },
        {
            "cell_type": "code",
            "execution_count": 31,
            "source": [
                "df_dataset = pd.read_csv(\"dataset.csv\")\n",
                "df_dataset = df_dataset.fillna('0')\n",
                "input_string = [str(i[0])+'\\t'+str(i[1]) for i in df_dataset[['Lastname', 'Firstname']].values.tolist()]\n",
                "df_dataset.columns"
            ],
            "outputs": [
                {
                    "output_type": "execute_result",
                    "data": {
                        "text/plain": [
                            "Index(['Lastname', 'Firstname', 'Fullname', 'Firstname.1', 'Gendername',\n",
                            "       'Incomplete'],\n",
                            "      dtype='object')"
                        ]
                    },
                    "metadata": {},
                    "execution_count": 31
                }
            ],
            "metadata": {}
        },
        {
            "cell_type": "code",
            "execution_count": 32,
            "source": [
                "y = df_dataset[['Fullname', 'Firstname.1', 'Gendername',\n",
                "       'Incomplete']].values\n",
                "input_vector_unpadded = [encode_name(i) for i in input_string]\n",
                "X = pad_sequences(input_vector_unpadded, padding='post', truncating='post', maxlen=40)"
            ],
            "outputs": [],
            "metadata": {}
        },
        {
            "cell_type": "code",
            "execution_count": 33,
            "source": [
                "X = X.astype('float32')"
            ],
            "outputs": [],
            "metadata": {}
        },
        {
            "cell_type": "code",
            "execution_count": 34,
            "source": [
                "X.shape"
            ],
            "outputs": [
                {
                    "output_type": "execute_result",
                    "data": {
                        "text/plain": [
                            "(80000, 40, 74)"
                        ]
                    },
                    "metadata": {},
                    "execution_count": 34
                }
            ],
            "metadata": {}
        },
        {
            "cell_type": "code",
            "execution_count": 35,
            "source": [
                "model = tf.keras.Sequential([\n",
                "    tf.keras.layers.Bidirectional(tf.keras.layers.LSTM(enc_space, batch_size=1, stateful=True)),\n",
                "    tf.keras.layers.Dense(enc_space, activation='relu'),\n",
                "    tf.keras.layers.Dense(4, activation='softmax')]\n",
                ")"
            ],
            "outputs": [],
            "metadata": {}
        },
        {
            "cell_type": "code",
            "execution_count": 36,
            "source": [
                "model.compile(loss=tf.keras.losses.CategoricalCrossentropy(),\n",
                "              optimizer=tf.keras.optimizers.SGD(1e-2),\n",
                "              metrics=['mean_squared_error', 'accuracy'])"
            ],
            "outputs": [],
            "metadata": {}
        },
        {
            "cell_type": "code",
            "execution_count": 37,
            "source": [
                "X_train, X_test, y_train, y_test = train_test_split(X, y, random_state=52)"
            ],
            "outputs": [],
            "metadata": {}
        },
        {
            "cell_type": "code",
            "execution_count": 38,
            "source": [
                "model.fit(X_train, y_train, epochs=5)"
            ],
            "outputs": [
                {
                    "output_type": "stream",
                    "name": "stdout",
                    "text": [
                        "Epoch 1/5\n",
                        "1875/1875 [==============================] - 24s 12ms/step - loss: 1.0214 - mean_squared_error: 0.1375 - accuracy: 0.7534\n",
                        "Epoch 2/5\n",
                        "1875/1875 [==============================] - 26s 14ms/step - loss: 0.2417 - mean_squared_error: 0.0302 - accuracy: 0.9351\n",
                        "Epoch 3/5\n",
                        "1875/1875 [==============================] - 26s 14ms/step - loss: 0.0749 - mean_squared_error: 0.0069 - accuracy: 0.9873\n",
                        "Epoch 4/5\n",
                        "1875/1875 [==============================] - 39s 21ms/step - loss: 0.0406 - mean_squared_error: 0.0037 - accuracy: 0.9912\n",
                        "Epoch 5/5\n",
                        "1875/1875 [==============================] - 34s 18ms/step - loss: 0.0559 - mean_squared_error: 0.0068 - accuracy: 0.9840\n"
                    ]
                },
                {
                    "output_type": "execute_result",
                    "data": {
                        "text/plain": [
                            "<tensorflow.python.keras.callbacks.History at 0x7fa8fc4bae80>"
                        ]
                    },
                    "metadata": {},
                    "execution_count": 38
                }
            ],
            "metadata": {}
        },
        {
            "cell_type": "code",
            "execution_count": 39,
            "source": [
                "model.evaluate(X_test, y_test)"
            ],
            "outputs": [
                {
                    "output_type": "stream",
                    "name": "stdout",
                    "text": [
                        "625/625 [==============================] - 5s 7ms/step - loss: 0.0099 - mean_squared_error: 4.1120e-04 - accuracy: 0.9995\n"
                    ]
                },
                {
                    "output_type": "execute_result",
                    "data": {
                        "text/plain": [
                            "[0.009937566705048084, 0.0004112022870685905, 0.9995499849319458]"
                        ]
                    },
                    "metadata": {},
                    "execution_count": 39
                }
            ],
            "metadata": {}
        },
        {
            "cell_type": "markdown",
            "source": [
                "## Save Model"
            ],
            "metadata": {}
        },
        {
            "cell_type": "code",
            "execution_count": 40,
            "source": [
                "import pickle"
            ],
            "outputs": [],
            "metadata": {}
        },
        {
            "cell_type": "code",
            "execution_count": 41,
            "source": [
                "with open(\"encoder.pkl\", \"wb\") as outfile:\n",
                "    pickle.dump(encoder, outfile)"
            ],
            "outputs": [],
            "metadata": {}
        },
        {
            "cell_type": "code",
            "execution_count": 42,
            "source": [
                "model.save(\"saved_text_classifer.h5\")"
            ],
            "outputs": [],
            "metadata": {}
        }
    ],
    "metadata": {
        "orig_nbformat": 4,
        "language_info": {
            "name": "python",
            "version": "3.6.13",
            "mimetype": "text/x-python",
            "codemirror_mode": {
                "name": "ipython",
                "version": 3
            },
            "pygments_lexer": "ipython3",
            "nbconvert_exporter": "python",
            "file_extension": ".py"
        },
        "kernelspec": {
            "name": "python3",
            "display_name": "Python 3.6.13 64-bit ('tensorflow': conda)"
        },
        "interpreter": {
            "hash": "d36e255458e31a29f527eb52fefea68899c70442c5f8ed7f862cc396cd8e7941"
        }
    },
    "nbformat": 4,
    "nbformat_minor": 2
}